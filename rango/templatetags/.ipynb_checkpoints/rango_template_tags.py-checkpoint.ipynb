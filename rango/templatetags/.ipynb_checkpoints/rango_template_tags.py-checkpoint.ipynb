{
 "cells": [
  {
   "cell_type": "code",
   "execution_count": null,
   "metadata": {},
   "outputs": [],
   "source": [
    "from django import template\n",
    "from rango.models import Category\n",
    "\n",
    "register = template.Library()\n",
    "\n",
    "@register.inclusion_tag('rango/categories.html')\n",
    "def get_category_list():\n",
    "    return {'categories': Category.objects.all()}"
   ]
  }
 ],
 "metadata": {
  "kernelspec": {
   "display_name": "Python 3",
   "language": "python",
   "name": "python3"
  },
  "language_info": {
   "codemirror_mode": {
    "name": "ipython",
    "version": 3
   },
   "file_extension": ".py",
   "mimetype": "text/x-python",
   "name": "python",
   "nbconvert_exporter": "python",
   "pygments_lexer": "ipython3",
   "version": "3.6.5"
  }
 },
 "nbformat": 4,
 "nbformat_minor": 2
}
